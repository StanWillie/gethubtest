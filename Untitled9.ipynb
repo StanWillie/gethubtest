{
  "nbformat": 4,
  "nbformat_minor": 0,
  "metadata": {
    "colab": {
      "provenance": [],
      "authorship_tag": "ABX9TyNDV7Ov84SFLzQzKHyIthDM",
      "include_colab_link": true
    },
    "kernelspec": {
      "name": "ir",
      "display_name": "R"
    },
    "language_info": {
      "name": "R"
    },
    "gpuClass": "standard"
  },
  "cells": [
    {
      "cell_type": "markdown",
      "metadata": {
        "id": "view-in-github",
        "colab_type": "text"
      },
      "source": [
        "<a href=\"https://colab.research.google.com/github/StanWillie/gethubtest/blob/main/Untitled9.ipynb\" target=\"_parent\"><img src=\"https://colab.research.google.com/assets/colab-badge.svg\" alt=\"Open In Colab\"/></a>"
      ]
    },
    {
      "cell_type": "markdown",
      "source": [
        "Name: Stan Willie\n",
        "\n",
        "Topic:  Running R in google colab"
      ],
      "metadata": {
        "id": "YPJR5hoOGUl1"
      }
    },
    {
      "cell_type": "code",
      "execution_count": null,
      "metadata": {
        "id": "HiYoSEGGFoO6",
        "colab": {
          "base_uri": "https://localhost:8080/",
          "height": 304
        },
        "outputId": "50e897fa-3be3-4d1d-df3b-136054d61ff7"
      },
      "outputs": [
        {
          "output_type": "display_data",
          "data": {
            "text/html": [
              "'data.frame'"
            ],
            "text/markdown": "'data.frame'",
            "text/latex": "'data.frame'",
            "text/plain": [
              "[1] \"data.frame\""
            ]
          },
          "metadata": {}
        },
        {
          "output_type": "display_data",
          "data": {
            "text/html": [
              "<table class=\"dataframe\">\n",
              "<caption>A data.frame: 6 × 5</caption>\n",
              "<thead>\n",
              "\t<tr><th></th><th scope=col>Date</th><th scope=col>Mkt.RF</th><th scope=col>SMB</th><th scope=col>HML</th><th scope=col>RF</th></tr>\n",
              "\t<tr><th></th><th scope=col>&lt;int&gt;</th><th scope=col>&lt;dbl&gt;</th><th scope=col>&lt;dbl&gt;</th><th scope=col>&lt;dbl&gt;</th><th scope=col>&lt;dbl&gt;</th></tr>\n",
              "</thead>\n",
              "<tbody>\n",
              "\t<tr><th scope=row>1</th><td>192607</td><td> 2.62</td><td>-2.16</td><td>-2.92</td><td>0.22</td></tr>\n",
              "\t<tr><th scope=row>2</th><td>192608</td><td> 2.56</td><td>-1.49</td><td> 4.88</td><td>0.25</td></tr>\n",
              "\t<tr><th scope=row>3</th><td>192609</td><td> 0.36</td><td>-1.38</td><td>-0.01</td><td>0.23</td></tr>\n",
              "\t<tr><th scope=row>4</th><td>192610</td><td>-3.43</td><td> 0.04</td><td> 0.71</td><td>0.32</td></tr>\n",
              "\t<tr><th scope=row>5</th><td>192611</td><td> 2.44</td><td>-0.24</td><td>-0.31</td><td>0.31</td></tr>\n",
              "\t<tr><th scope=row>6</th><td>192612</td><td> 2.77</td><td>-0.01</td><td>-0.10</td><td>0.28</td></tr>\n",
              "</tbody>\n",
              "</table>\n"
            ],
            "text/markdown": "\nA data.frame: 6 × 5\n\n| <!--/--> | Date &lt;int&gt; | Mkt.RF &lt;dbl&gt; | SMB &lt;dbl&gt; | HML &lt;dbl&gt; | RF &lt;dbl&gt; |\n|---|---|---|---|---|---|\n| 1 | 192607 |  2.62 | -2.16 | -2.92 | 0.22 |\n| 2 | 192608 |  2.56 | -1.49 |  4.88 | 0.25 |\n| 3 | 192609 |  0.36 | -1.38 | -0.01 | 0.23 |\n| 4 | 192610 | -3.43 |  0.04 |  0.71 | 0.32 |\n| 5 | 192611 |  2.44 | -0.24 | -0.31 | 0.31 |\n| 6 | 192612 |  2.77 | -0.01 | -0.10 | 0.28 |\n\n",
            "text/latex": "A data.frame: 6 × 5\n\\begin{tabular}{r|lllll}\n  & Date & Mkt.RF & SMB & HML & RF\\\\\n  & <int> & <dbl> & <dbl> & <dbl> & <dbl>\\\\\n\\hline\n\t1 & 192607 &  2.62 & -2.16 & -2.92 & 0.22\\\\\n\t2 & 192608 &  2.56 & -1.49 &  4.88 & 0.25\\\\\n\t3 & 192609 &  0.36 & -1.38 & -0.01 & 0.23\\\\\n\t4 & 192610 & -3.43 &  0.04 &  0.71 & 0.32\\\\\n\t5 & 192611 &  2.44 & -0.24 & -0.31 & 0.31\\\\\n\t6 & 192612 &  2.77 & -0.01 & -0.10 & 0.28\\\\\n\\end{tabular}\n",
            "text/plain": [
              "  Date   Mkt.RF SMB   HML   RF  \n",
              "1 192607  2.62  -2.16 -2.92 0.22\n",
              "2 192608  2.56  -1.49  4.88 0.25\n",
              "3 192609  0.36  -1.38 -0.01 0.23\n",
              "4 192610 -3.43   0.04  0.71 0.32\n",
              "5 192611  2.44  -0.24 -0.31 0.31\n",
              "6 192612  2.77  -0.01 -0.10 0.28"
            ]
          },
          "metadata": {}
        }
      ],
      "source": [
        "data <- read.table('/content/ffmkt.txt', header=T)\n",
        "class(data)\n",
        "head(data)\n",
        "\n",
        "\n"
      ]
    },
    {
      "cell_type": "code",
      "source": [
        "dimnames(x)\n",
        "\n",
        "\n",
        "\n",
        "\n",
        "\n",
        "\n",
        "\n"
      ],
      "metadata": {
        "colab": {
          "base_uri": "https://localhost:8080/",
          "height": 80
        },
        "id": "AOhAQwXRt212",
        "outputId": "31be2113-f246-46b3-d844-457734087bb9"
      },
      "execution_count": null,
      "outputs": [
        {
          "output_type": "display_data",
          "data": {
            "text/html": [
              "<ol>\n",
              "\t<li>NULL</li>\n",
              "\t<li><style>\n",
              ".list-inline {list-style: none; margin:0; padding: 0}\n",
              ".list-inline>li {display: inline-block}\n",
              ".list-inline>li:not(:last-child)::after {content: \"\\00b7\"; padding: 0 .5ex}\n",
              "</style>\n",
              "<ol class=list-inline><li>'Date'</li><li>'Mkt.RF'</li><li>'SMB'</li><li>'HML'</li><li>'RF'</li></ol>\n",
              "</li>\n",
              "</ol>\n"
            ],
            "text/markdown": "1. NULL\n2. 1. 'Date'\n2. 'Mkt.RF'\n3. 'SMB'\n4. 'HML'\n5. 'RF'\n\n\n\n\n\n",
            "text/latex": "\\begin{enumerate}\n\\item NULL\n\\item \\begin{enumerate*}\n\\item 'Date'\n\\item 'Mkt.RF'\n\\item 'SMB'\n\\item 'HML'\n\\item 'RF'\n\\end{enumerate*}\n\n\\end{enumerate}\n",
            "text/plain": [
              "[[1]]\n",
              "NULL\n",
              "\n",
              "[[2]]\n",
              "[1] \"Date\"   \"Mkt.RF\" \"SMB\"    \"HML\"    \"RF\"    \n"
            ]
          },
          "metadata": {}
        }
      ]
    },
    {
      "cell_type": "markdown",
      "source": [
        "# This is the heading!\n",
        "\n",
        "> This is the first indented block\n",
        "\n",
        "\n",
        "1.   First item\n",
        "2.   Second Item\n",
        "3.   Third Item\n",
        "4.   Fourth item\n",
        "\n",
        "> Indented block\n",
        "\n",
        "\n",
        "\n",
        "```\n",
        "# This is formatted as code\n",
        "For item in list:\n",
        "  print(item)\n",
        "\n",
        "```\n",
        "![Screenshot_20221110_103656.png](data:image/png;base64,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)\n",
        "\n",
        "\n",
        "\n",
        "\n",
        "\n"
      ],
      "metadata": {
        "id": "ZCO4EFpMtnCm"
      }
    },
    {
      "cell_type": "code",
      "source": [],
      "metadata": {
        "id": "Y3hV99Unvh4r"
      },
      "execution_count": null,
      "outputs": []
    },
    {
      "cell_type": "markdown",
      "source": [
        "Hello\n"
      ],
      "metadata": {
        "id": "lwMfFh5SESC_"
      }
    },
    {
      "cell_type": "markdown",
      "source": [
        "$ x^2 $\n"
      ],
      "metadata": {
        "id": "F0eP8wJZvwki"
      }
    }
  ]
}